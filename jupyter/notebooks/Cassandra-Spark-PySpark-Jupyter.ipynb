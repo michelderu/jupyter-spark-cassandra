{
 "cells": [
  {
   "cell_type": "code",
   "execution_count": null,
   "id": "honest-positive",
   "metadata": {},
   "outputs": [],
   "source": [
    "# Set up Cassandra database for below tests using CQLSH\n",
    "CREATE KEYSPACE IF NOT EXISTS test\n",
    "   WITH REPLICATION =\n",
    "   { 'class' : 'SimpleStrategy', 'replication_factor' : 1 };\n",
    "USE test;\n",
    "CREATE TABLE IF NOT EXISTS testing123 (id int, name text, city text, PRIMARY KEY (id));\n",
    "INSERT INTO testing123 (id, name, city) VALUES (1, 'Amanda', 'Bay Area');\n",
    "INSERT INTO testing123 (id, name, city) VALUES (2, 'Toby', 'NYC');"
   ]
  },
  {
   "cell_type": "code",
   "execution_count": null,
   "id": "inclusive-raising",
   "metadata": {},
   "outputs": [],
   "source": [
    "# Configure Spark to include DataStax Cassandra:\n",
    "# https://www.datastax.com/blog/install-all-things-especially-apache-cassandra-apache-spark-and-jupyter\n",
    "#cd $SPARK_HOME/conf\n",
    "#vim spark-defaults.conf\n",
    "#//Add line spark.jars.packages\n",
    "#spark.jars.packages     com.datastax.spark:spark-cassandra-connector_2.12:3.0.0"
   ]
  },
  {
   "cell_type": "code",
   "execution_count": null,
   "id": "superb-condition",
   "metadata": {},
   "outputs": [],
   "source": [
    "# Working standalone PySpark call for use with DataStax Cassandra Spark connector\n",
    "# Check out: https://github.com/datastax/spark-cassandra-connector/blob/master/doc/15_python.md\n",
    "#pyspark --conf spark.cassandra.connection.host=cassandra --packages com.datastax.spark:spark-cassandra-connector_2.12:3.0.0 --conf spark.sql.extensions=com.datastax.spark.connector.CassandraSparkExtensions\n",
    "\n",
    "# Check following for query examples:\n",
    "# http://rustyrazorblade.com/post/2015/2015-07-30-python-dataframes-revisited/"
   ]
  },
  {
   "cell_type": "code",
   "execution_count": 1,
   "id": "banner-fellowship",
   "metadata": {},
   "outputs": [],
   "source": [
    "# Set PySpark configuration\n",
    "import os\n",
    "os.environ['PYSPARK_SUBMIT_ARGS'] = '--conf spark.cassandra.connection.host=cassandra --packages com.datastax.spark:spark-cassandra-connector_2.12:3.0.0 --conf spark.sql.extensions=com.datastax.spark.connector.CassandraSparkExtensions pyspark-shell'"
   ]
  },
  {
   "cell_type": "code",
   "execution_count": 3,
   "id": "exclusive-maker",
   "metadata": {},
   "outputs": [
    {
     "data": {
      "text/html": [
       "\n",
       "            <div>\n",
       "                <p><b>SparkSession - in-memory</b></p>\n",
       "                \n",
       "        <div>\n",
       "            <p><b>SparkContext</b></p>\n",
       "\n",
       "            <p><a href=\"http://a8c061c3d370:4040\">Spark UI</a></p>\n",
       "\n",
       "            <dl>\n",
       "              <dt>Version</dt>\n",
       "                <dd><code>v3.0.2</code></dd>\n",
       "              <dt>Master</dt>\n",
       "                <dd><code>spark://spark-master:7077</code></dd>\n",
       "              <dt>AppName</dt>\n",
       "                <dd><code>demo</code></dd>\n",
       "            </dl>\n",
       "        </div>\n",
       "        \n",
       "            </div>\n",
       "        "
      ],
      "text/plain": [
       "<pyspark.sql.session.SparkSession at 0x7f83cd220880>"
      ]
     },
     "execution_count": 3,
     "metadata": {},
     "output_type": "execute_result"
    }
   ],
   "source": [
    "# Get a Spark session\n",
    "from pyspark.sql import SparkSession\n",
    "\n",
    "spark = SparkSession.builder.appName('demo').master(\"spark://spark-master:7077\").getOrCreate()\n",
    "spark"
   ]
  },
  {
   "cell_type": "code",
   "execution_count": 6,
   "id": "resistant-affiliation",
   "metadata": {},
   "outputs": [
    {
     "name": "stdout",
     "output_type": "stream",
     "text": [
      "Table Row Count:  2\n",
      "+---+--------+------+\n",
      "| id|    city|  name|\n",
      "+---+--------+------+\n",
      "|  2|     NYC|  Toby|\n",
      "|  1|Bay Area|Amanda|\n",
      "+---+--------+------+\n",
      "\n"
     ]
    }
   ],
   "source": [
    "# Read the testdata from Cassandra using Spark and the DataStax Spark Cassandra Connector\n",
    "df = spark.read.format(\"org.apache.spark.sql.cassandra\").options(table=\"testing123\", keyspace=\"test\").load()\n",
    "print (\"Table Row Count: \", df.count())\n",
    "df.show()"
   ]
  },
  {
   "cell_type": "code",
   "execution_count": 10,
   "id": "expanded-director",
   "metadata": {},
   "outputs": [],
   "source": [
    "# Terminate the Spark session\n",
    "spark.stop()"
   ]
  },
  {
   "cell_type": "code",
   "execution_count": 8,
   "id": "unusual-joseph",
   "metadata": {},
   "outputs": [
    {
     "name": "stdout",
     "output_type": "stream",
     "text": [
      "Collecting cassandra-driver\n",
      "  Downloading cassandra_driver-3.24.0-cp38-cp38-manylinux1_x86_64.whl (3.6 MB)\n",
      "\u001b[K     |████████████████████████████████| 3.6 MB 5.5 MB/s eta 0:00:01\n",
      "\u001b[?25hRequirement already satisfied: six>=1.9 in /opt/conda/lib/python3.8/site-packages (from cassandra-driver) (1.15.0)\n",
      "Collecting geomet<0.3,>=0.1\n",
      "  Downloading geomet-0.2.1.post1-py3-none-any.whl (18 kB)\n",
      "Requirement already satisfied: click in /opt/conda/lib/python3.8/site-packages (from geomet<0.3,>=0.1->cassandra-driver) (7.1.2)\n",
      "Installing collected packages: geomet, cassandra-driver\n",
      "Successfully installed cassandra-driver-3.24.0 geomet-0.2.1.post1\n"
     ]
    }
   ],
   "source": [
    "# Install the DataStax Python driver\n",
    "!pip3 install cassandra-driver"
   ]
  },
  {
   "cell_type": "code",
   "execution_count": 9,
   "id": "minimal-hours",
   "metadata": {},
   "outputs": [
    {
     "name": "stdout",
     "output_type": "stream",
     "text": [
      "Row(id=1, city='Bay Area', name='Amanda')\n",
      "Row(id=2, city='NYC', name='Toby')\n"
     ]
    }
   ],
   "source": [
    "# Straight connection to Cassandra using the DataStax Python driver\n",
    "import cassandra\n",
    "\n",
    "from cassandra.cluster import Cluster\n",
    "cluster = Cluster(['cassandra']) # include all nodes inhere\n",
    "session = cluster.connect('test') # connect to this keyspace\n",
    "\n",
    "rows = session.execute('SELECT * FROM testing123')\n",
    "for row in rows:\n",
    "    print (row)"
   ]
  },
  {
   "cell_type": "code",
   "execution_count": null,
   "id": "military-gateway",
   "metadata": {},
   "outputs": [],
   "source": []
  }
 ],
 "metadata": {
  "kernelspec": {
   "display_name": "Python 3",
   "language": "python",
   "name": "python3"
  },
  "language_info": {
   "codemirror_mode": {
    "name": "ipython",
    "version": 3
   },
   "file_extension": ".py",
   "mimetype": "text/x-python",
   "name": "python",
   "nbconvert_exporter": "python",
   "pygments_lexer": "ipython3",
   "version": "3.8.8"
  }
 },
 "nbformat": 4,
 "nbformat_minor": 5
}

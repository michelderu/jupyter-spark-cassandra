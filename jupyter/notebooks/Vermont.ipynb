{
 "cells": [
  {
   "cell_type": "code",
   "execution_count": 1,
   "id": "liked-nicholas",
   "metadata": {},
   "outputs": [
    {
     "data": {
      "text/html": [
       "\n",
       "            <div>\n",
       "                <p><b>SparkSession - in-memory</b></p>\n",
       "                \n",
       "        <div>\n",
       "            <p><b>SparkContext</b></p>\n",
       "\n",
       "            <p><a href=\"http://347efbeec3d6:4040\">Spark UI</a></p>\n",
       "\n",
       "            <dl>\n",
       "              <dt>Version</dt>\n",
       "                <dd><code>v3.0.2</code></dd>\n",
       "              <dt>Master</dt>\n",
       "                <dd><code>spark://spark-master:7077</code></dd>\n",
       "              <dt>AppName</dt>\n",
       "                <dd><code>Vermont</code></dd>\n",
       "            </dl>\n",
       "        </div>\n",
       "        \n",
       "            </div>\n",
       "        "
      ],
      "text/plain": [
       "<pyspark.sql.session.SparkSession at 0x7f8ba9653b50>"
      ]
     },
     "execution_count": 1,
     "metadata": {},
     "output_type": "execute_result"
    }
   ],
   "source": [
    "# Get a Spark session\n",
    "from pyspark.sql import SparkSession\n",
    "\n",
    "spark = SparkSession.builder.appName('Vermont').master(\"spark://spark-master:7077\").getOrCreate()\n",
    "spark"
   ]
  },
  {
   "cell_type": "code",
   "execution_count": 2,
   "id": "blocked-hearts",
   "metadata": {},
   "outputs": [],
   "source": [
    "df = spark.read.csv('/home/jovyan/data/Vermont_Vendor_Payments.csv', header='true', inferSchema = True)\n",
    "df = df.withColumn(\"Amount\", df[\"Amount\"].cast(\"double\"))"
   ]
  },
  {
   "cell_type": "code",
   "execution_count": 3,
   "id": "opened-genetics",
   "metadata": {},
   "outputs": [
    {
     "name": "stdout",
     "output_type": "stream",
     "text": [
      "The column Names are:\n",
      "Quarter Ending\n",
      "Department\n",
      "UnitNo\n",
      "Vendor Number\n",
      "Vendor\n",
      "City\n",
      "State\n",
      "DeptID Description\n",
      "DeptID\n",
      "Amount\n",
      "Account\n",
      "AcctNo\n",
      "Fund Description\n",
      "Fund\n"
     ]
    }
   ],
   "source": [
    "# We can use the columns attribute just like with pandas\n",
    "columns = df.columns\n",
    "print('The column Names are:')\n",
    "for i in columns:\n",
    "    print(i)"
   ]
  },
  {
   "cell_type": "code",
   "execution_count": null,
   "id": "stock-buffer",
   "metadata": {},
   "outputs": [],
   "source": [
    "# Get some stats\n",
    "print('The total number of rows is:', df.count(), '\\nThe total number of columns is:', len(df.columns))"
   ]
  },
  {
   "cell_type": "code",
   "execution_count": null,
   "id": "binding-niger",
   "metadata": {},
   "outputs": [],
   "source": [
    "# Show first 5 rows\n",
    "df.show(n=5)"
   ]
  },
  {
   "cell_type": "code",
   "execution_count": null,
   "id": "popular-cement",
   "metadata": {},
   "outputs": [],
   "source": [
    "# Show first row\n",
    "df.head()"
   ]
  },
  {
   "cell_type": "code",
   "execution_count": 4,
   "id": "cooperative-deadline",
   "metadata": {},
   "outputs": [
    {
     "name": "stdout",
     "output_type": "stream",
     "text": [
      "+-------+--------------+--------------------+------------------+------------------+--------------------+--------+------------------+------------------+--------------------+--------------------+--------------------+------------------+--------------------+--------------------+\n",
      "|summary|Quarter Ending|          Department|            UnitNo|     Vendor Number|              Vendor|    City|             State|DeptID Description|              DeptID|              Amount|             Account|            AcctNo|    Fund Description|                Fund|\n",
      "+-------+--------------+--------------------+------------------+------------------+--------------------+--------+------------------+------------------+--------------------+--------------------+--------------------+------------------+--------------------+--------------------+\n",
      "|  count|       1791775|             1791775|           1791775|           1791775|             1791775| 1049452|           1791727|           1791238|             1791775|             1791419|             1791775|           1791775|             1791773|             1791774|\n",
      "|   mean|          null|                null| 4088.308864115193|108403.82766617443|                null|     0.0|1.4563106796116505|              null|4.0896973896168156E9|  182498.75673178484|  7.02646368540289E8| 532484.2728891631|   517416.8318965517|  26165.750736655496|\n",
      "| stddev|          null|                null|2340.4810930215167|124258.70437925444|                null|     0.0|10.399638661736704|              null|2.3400227692801547E9|1.3980117005042212E7| 5.677079359924166E8|30117.050289088165|   4474.488108981828|  19340.845229060626|\n",
      "|    min|    03/31/2010|AOT Proprietary F...|              1100|        0000000002|\"Jewett,Martin A ...|       0|                 0|         \"\"\"Admin.|              CCV\"\"\"|         -2880183.34|             -294.00|           -294.00|              507200|               10000|\n",
      "|    max|    12/31/2020|  Women's Commission|              9150|            SINGLE|           xAd, Inc.|w Berlin|                ZZ|     Youth at Risk|                 Seg|           6.10001E9|Youth Development...|       Water/Sewer|Youth Substance A...|Facilities Operat...|\n",
      "+-------+--------------+--------------------+------------------+------------------+--------------------+--------+------------------+------------------+--------------------+--------------------+--------------------+------------------+--------------------+--------------------+\n",
      "\n"
     ]
    }
   ],
   "source": [
    "# Get some more stats\n",
    "df.describe().show()"
   ]
  },
  {
   "cell_type": "code",
   "execution_count": 6,
   "id": "technological-olympus",
   "metadata": {},
   "outputs": [
    {
     "name": "stdout",
     "output_type": "stream",
     "text": [
      "+--------------+--------------------+-------+-----+\n",
      "|Quarter Ending|          Department| Amount|State|\n",
      "+--------------+--------------------+-------+-----+\n",
      "|    09/30/2012|           Judiciary|  16.24|   VT|\n",
      "|    09/30/2012|Department of Men...|9655.13|   VT|\n",
      "|    09/30/2012|Human Services Ce...|   17.4|   VT|\n",
      "|    09/30/2012|Personnel-Governm...| 280.66|   VT|\n",
      "|    09/30/2012|Department of VT ...|   66.6|   VT|\n",
      "|    09/30/2012|Office of the Def...|    4.4|   VT|\n",
      "|    09/30/2012|Public Service De...| 2072.7|   VT|\n",
      "|    09/30/2012|Agriculture, Food...|   9.21|   VT|\n",
      "|    09/30/2012|Agency of Transpo...|   9.38|   VT|\n",
      "|    09/30/2012|Unorganized Towns...|   33.3|   VT|\n",
      "+--------------+--------------------+-------+-----+\n",
      "\n"
     ]
    }
   ],
   "source": [
    "# Start by creating a temporary table query with SQL\n",
    "df.createOrReplaceTempView('VermontVendor')\n",
    "spark.sql(\n",
    "'''\n",
    "SELECT `Quarter Ending`, Department, Amount, State FROM VermontVendor\n",
    "LIMIT 10\n",
    "'''\n",
    ").show()"
   ]
  },
  {
   "cell_type": "code",
   "execution_count": 7,
   "id": "coated-domestic",
   "metadata": {},
   "outputs": [
    {
     "name": "stdout",
     "output_type": "stream",
     "text": [
      "+--------------+--------------------+---------+-----+\n",
      "|Quarter Ending|          Department|   Amount|State|\n",
      "+--------------+--------------------+---------+-----+\n",
      "|    12/31/2019|Vt Housing & Cons...|1075000.0|   VT|\n",
      "|    12/31/2019|Vt Housing & Cons...|   4612.5|   VT|\n",
      "|    12/31/2019|Vt Housing & Cons...|112916.67|   VT|\n",
      "|    12/31/2019|Vt Housing & Cons...| 17152.74|   VT|\n",
      "|    12/31/2019|Vt Housing & Cons...|   4850.0|   VT|\n",
      "|    12/31/2019|Vt Housing & Cons...|   1755.0|   VT|\n",
      "|    12/31/2019|Vt Housing & Cons...| 26837.54|   VT|\n",
      "|    12/31/2019|Vt Housing & Cons...| 30396.35|   VT|\n",
      "|    12/31/2019|Vt Housing & Cons...|  5430.17|   VT|\n",
      "|    12/31/2019|Vt Housing & Cons...|   1000.0|   VT|\n",
      "+--------------+--------------------+---------+-----+\n",
      "only showing top 10 rows\n",
      "\n"
     ]
    }
   ],
   "source": [
    "# Or using Python\n",
    "df.select('Quarter Ending', 'Department', 'Amount', 'State').show(10)"
   ]
  },
  {
   "cell_type": "code",
   "execution_count": 8,
   "id": "cross-chocolate",
   "metadata": {},
   "outputs": [
    {
     "name": "stdout",
     "output_type": "stream",
     "text": [
      "+--------------+----------+--------+-----+\n",
      "|Quarter Ending|Department|  Amount|State|\n",
      "+--------------+----------+--------+-----+\n",
      "|    12/31/2012| Education|  302.12|   VT|\n",
      "|    12/31/2012| Education|531548.0|   VT|\n",
      "|    12/31/2012| Education| 14082.0|   VT|\n",
      "|    12/31/2012| Education| 5337.66|   VT|\n",
      "|    12/31/2012| Education|164436.0|   VT|\n",
      "|    12/31/2012| Education|  8295.0|   VT|\n",
      "|    12/31/2012| Education|   646.5|   VT|\n",
      "|    12/31/2012| Education|    29.9|   VT|\n",
      "|    12/31/2012| Education| 34159.0|   VT|\n",
      "|    12/31/2012| Education|  2626.0|   VT|\n",
      "+--------------+----------+--------+-----+\n",
      "\n"
     ]
    }
   ],
   "source": [
    "# SQL filtering\n",
    "spark.sql(\n",
    "'''\n",
    "SELECT `Quarter Ending`, Department, Amount, State FROM VermontVendor \n",
    "WHERE Department = 'Education'\n",
    "LIMIT 10\n",
    "'''\n",
    ").show()"
   ]
  },
  {
   "cell_type": "code",
   "execution_count": 9,
   "id": "southeast-seeker",
   "metadata": {},
   "outputs": [
    {
     "name": "stdout",
     "output_type": "stream",
     "text": [
      "+--------------+----------+--------+-----+\n",
      "|Quarter Ending|Department|  Amount|State|\n",
      "+--------------+----------+--------+-----+\n",
      "|    12/31/2012| Education|  302.12|   VT|\n",
      "|    12/31/2012| Education|531548.0|   VT|\n",
      "|    12/31/2012| Education| 14082.0|   VT|\n",
      "|    12/31/2012| Education| 5337.66|   VT|\n",
      "|    12/31/2012| Education|164436.0|   VT|\n",
      "|    12/31/2012| Education|  8295.0|   VT|\n",
      "|    12/31/2012| Education|   646.5|   VT|\n",
      "|    12/31/2012| Education|    29.9|   VT|\n",
      "|    12/31/2012| Education| 34159.0|   VT|\n",
      "|    12/31/2012| Education|  2626.0|   VT|\n",
      "+--------------+----------+--------+-----+\n",
      "only showing top 10 rows\n",
      "\n"
     ]
    }
   ],
   "source": [
    "# Python filtering\n",
    "df.select('Quarter Ending', 'Department', 'Amount', 'State').filter(df['Department'] == 'Education').show(10)"
   ]
  },
  {
   "cell_type": "code",
   "execution_count": 10,
   "id": "romance-recycling",
   "metadata": {},
   "outputs": [
    {
     "data": {
      "image/png": "[encoded data removed]",
      "text/plain": [
       "<Figure size 720x432 with 1 Axes>"
      ]
     },
     "metadata": {
      "needs_background": "light"
     },
     "output_type": "display_data"
    }
   ],
   "source": [
    "# Plotting (need to convert to Pandas as DataFrame doesn't support this)\n",
    "import matplotlib.pyplot as plt \n",
    "\n",
    "plot_df = spark.sql(\n",
    "'''\n",
    "SELECT Department, SUM(Amount) as Total FROM VermontVendor \n",
    "GROUP BY Department\n",
    "ORDER BY Total DESC\n",
    "LIMIT 10\n",
    "'''\n",
    ").toPandas()\n",
    "\n",
    "fig,ax = plt.subplots(1,1,figsize=(10,6))\n",
    "plot_df.plot(x = 'Department', y = 'Total', kind = 'barh', color = 'C0', ax = ax, legend = False)\n",
    "ax.set_xlabel('Department', size = 16)\n",
    "ax.set_ylabel('Total', size = 16)\n",
    "#plt.savefig('barplot.png')\n",
    "plt.show()"
   ]
  },
  {
   "cell_type": "code",
   "execution_count": 13,
   "id": "magnetic-anxiety",
   "metadata": {},
   "outputs": [
    {
     "name": "stderr",
     "output_type": "stream",
     "text": [
      "/opt/conda/lib/python3.8/site-packages/seaborn/distributions.py:2557: FutureWarning: `distplot` is a deprecated function and will be removed in a future version. Please adapt your code to use either `displot` (a figure-level function with similar flexibility) or `histplot` (an axes-level function for histograms).\n",
      "  warnings.warn(msg, FutureWarning)\n"
     ]
    },
    {
     "data": {
      "image/png": "[encoded data removed]",
      "text/plain": [
       "<Figure size 720x432 with 1 Axes>"
      ]
     },
     "metadata": {
      "needs_background": "light"
     },
     "output_type": "display_data"
    }
   ],
   "source": [
    "# Another plot\n",
    "import numpy as np\n",
    "import seaborn as sns\n",
    "\n",
    "plot_df2 = spark.sql(\n",
    "'''\n",
    "SELECT Department, SUM(Amount) as Total FROM VermontVendor \n",
    "GROUP BY Department\n",
    "'''\n",
    ").toPandas()\n",
    "plt.figure(figsize = (10,6))\n",
    "sns.distplot(np.log(plot_df2['Total']))\n",
    "plt.title('Histogram of Log Totals for all Departments in Dataset', size = 16)\n",
    "plt.ylabel('Density', size = 16)\n",
    "plt.xlabel('Log Total', size = 16)\n",
    "#plt.savefig('distplot.png')\n",
    "plt.show()"
   ]
  },
  {
   "cell_type": "code",
   "execution_count": null,
   "id": "deadly-romance",
   "metadata": {},
   "outputs": [],
   "source": []
  }
 ],
 "metadata": {
  "kernelspec": {
   "display_name": "Python 3",
   "language": "python",
   "name": "python3"
  },
  "language_info": {
   "codemirror_mode": {
    "name": "ipython",
    "version": 3
   },
   "file_extension": ".py",
   "mimetype": "text/x-python",
   "name": "python",
   "nbconvert_exporter": "python",
   "pygments_lexer": "ipython3",
   "version": "3.8.8"
  }
 },
 "nbformat": 4,
 "nbformat_minor": 5
}
